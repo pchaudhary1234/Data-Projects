{
 "cells": [
  {
   "cell_type": "code",
   "execution_count": 46,
   "id": "6384f5b5",
   "metadata": {},
   "outputs": [],
   "source": [
    "#This is data analysis on done on the data from insurance.csv file in the analysis for average\n",
    "#cost for individuals that smoke vs that do not smoke by region. I also counted out number of males and females in each unique age\n",
    "\n",
    "\n",
    "import csv\n",
    "\n",
    "Ages = [] \n",
    "Sex = [] \n",
    "BMI =[] \n",
    "Num_children = [] \n",
    "Smoker = [] \n",
    "Region = [] \n",
    "cost = []\n",
    "with open ('insurance.csv','r') as insurance:\n",
    "    reader = csv.DictReader(insurance)\n",
    "    header = next(reader)\n",
    "    for row in reader:\n",
    "        Ages.append(int(row['age']))\n",
    "        Sex.append(row['sex'])\n",
    "        BMI.append(row['bmi'])\n",
    "        Num_children.append(row['children'])\n",
    "        Smoker.append(row['smoker'])\n",
    "        Region.append(row['region'])\n",
    "        cost.append(float(row['charges']))\n",
    "        \n",
    "    \n",
    "#print(cost)\n",
    "\n"
   ]
  },
  {
   "cell_type": "code",
   "execution_count": 35,
   "id": "e7967239",
   "metadata": {},
   "outputs": [
    {
     "name": "stdout",
     "output_type": "stream",
     "text": [
      "The average cost for a non-smoker in southeast is 8032.216308937727\n",
      "The average cost for a non-smoker in northwest is 8556.463715205993\n",
      "The average cost for a non-smoker in northeast is 9165.531671708171\n",
      "The average cost for a smoker in southeast is 34844.99682362637\n",
      "The average cost for a non-smoker in southwest is 8019.284513071162\n",
      "The average cost for a smoker in southwest is 32538.960677719308\n",
      "The average cost for a smoker in northeast is 29673.536472835818\n",
      "The average cost for a smoker in northwest is 30192.00318241379\n",
      "The total average cost for a smoker is 31812.374289148822\n",
      "The total average cost for a non-smoker is 8443.374052230763\n"
     ]
    }
   ],
   "source": [
    "#Average cost of a smoker vs non smoker by region\n",
    "cost_by_smoker_region = {}\n",
    "for i in range(len(Smoker)):\n",
    "    smoker = Smoker[i]\n",
    "    region = Region[i]\n",
    "    cost_i = cost[i]\n",
    "    if (smoker, region) not in cost_by_smoker_region:\n",
    "        cost_by_smoker_region[(smoker, region)] = []\n",
    "    cost_by_smoker_region[(smoker, region)].append(cost_i)\n",
    "\n",
    "average_smoker = 0\n",
    "smoker_count = 0\n",
    "average_non_smoker = 0\n",
    "non_smoker_count = 0 \n",
    "\n",
    "for (smoker, region), costs in cost_by_smoker_region.items():\n",
    "    avg_cost = sum(costs) / len(costs)\n",
    "   \n",
    "    if smoker == 'yes':\n",
    "        average_smoker += avg_cost\n",
    "        smoker_count += 1\n",
    "        print(f'The average cost for a smoker in {region} is {avg_cost}')     \n",
    "    if smoker == 'no':\n",
    "        average_non_smoker += avg_cost\n",
    "        non_smoker_count += 1\n",
    "        print(f'The average cost for a non-smoker in {region} is {avg_cost}')\n",
    "smoker_cost = average_smoker/smoker_count\n",
    "print(f'The total average cost for a smoker is {smoker_cost}')\n",
    "non_smoker_cost = average_non_smoker/non_smoker_count\n",
    "print(f'The total average cost for a non-smoker is {non_smoker_cost}')\n",
    "    "
   ]
  },
  {
   "cell_type": "code",
   "execution_count": 47,
   "id": "25f2e8d4",
   "metadata": {},
   "outputs": [],
   "source": [
    "#average age \n",
    "#def average_age(Ages):\n",
    "    #return sum(Ages)/len(Ages)\n",
    "#result = average_age(Ages)\n",
    "#print(result)\n"
   ]
  },
  {
   "cell_type": "code",
   "execution_count": 48,
   "id": "c4170876",
   "metadata": {},
   "outputs": [],
   "source": [
    "#sex Count \n",
    "#Male = Sex.count(\"male\")\n",
    "#female = Sex.count(\"female\")\n",
    "\n",
    "#print(Male,female)\n",
    "    "
   ]
  },
  {
   "cell_type": "code",
   "execution_count": 44,
   "id": "e7877044",
   "metadata": {},
   "outputs": [],
   "source": [
    "#count of male and female in each unique age the data set \n",
    "def count_age_sex(Ages,Sex):\n",
    "    \n",
    "    age_group_count ={}\n",
    "    for i in range(len(Ages)):\n",
    "        age = Ages[i]\n",
    "        sex = Sex[i]\n",
    "        if age not in age_group_count:\n",
    "            age_group_count[age] = {'Male': 0, 'Female': 0}\n",
    "    \n",
    "        # Increment the count for the current sex\n",
    "        if sex == 'Male':\n",
    "            age_group_count[age]['Male'] += 1\n",
    "        else:\n",
    "            age_group_count[age]['Female'] += 1\n",
    "    return age_group_count\n",
    "\n",
    "        "
   ]
  },
  {
   "cell_type": "code",
   "execution_count": 45,
   "id": "3c6e949f",
   "metadata": {},
   "outputs": [
    {
     "name": "stdout",
     "output_type": "stream",
     "text": [
      "{18: {'Male': 0, 'Female': 69}, 28: {'Male': 0, 'Female': 28}, 33: {'Male': 0, 'Female': 26}, 32: {'Male': 0, 'Female': 26}, 31: {'Male': 0, 'Female': 27}, 46: {'Male': 0, 'Female': 29}, 37: {'Male': 0, 'Female': 25}, 60: {'Male': 0, 'Female': 23}, 25: {'Male': 0, 'Female': 28}, 62: {'Male': 0, 'Female': 23}, 23: {'Male': 0, 'Female': 28}, 56: {'Male': 0, 'Female': 26}, 27: {'Male': 0, 'Female': 28}, 19: {'Male': 0, 'Female': 67}, 52: {'Male': 0, 'Female': 29}, 30: {'Male': 0, 'Female': 27}, 34: {'Male': 0, 'Female': 26}, 59: {'Male': 0, 'Female': 25}, 63: {'Male': 0, 'Female': 23}, 55: {'Male': 0, 'Female': 26}, 22: {'Male': 0, 'Female': 28}, 26: {'Male': 0, 'Female': 28}, 35: {'Male': 0, 'Female': 25}, 24: {'Male': 0, 'Female': 28}, 41: {'Male': 0, 'Female': 27}, 38: {'Male': 0, 'Female': 25}, 36: {'Male': 0, 'Female': 25}, 21: {'Male': 0, 'Female': 28}, 48: {'Male': 0, 'Female': 29}, 40: {'Male': 0, 'Female': 27}, 58: {'Male': 0, 'Female': 25}, 53: {'Male': 0, 'Female': 28}, 43: {'Male': 0, 'Female': 27}, 64: {'Male': 0, 'Female': 22}, 20: {'Male': 0, 'Female': 29}, 61: {'Male': 0, 'Female': 23}, 44: {'Male': 0, 'Female': 27}, 57: {'Male': 0, 'Female': 26}, 29: {'Male': 0, 'Female': 27}, 45: {'Male': 0, 'Female': 29}, 54: {'Male': 0, 'Female': 28}, 49: {'Male': 0, 'Female': 28}, 47: {'Male': 0, 'Female': 29}, 51: {'Male': 0, 'Female': 29}, 42: {'Male': 0, 'Female': 27}, 50: {'Male': 0, 'Female': 29}, 39: {'Male': 0, 'Female': 25}}\n"
     ]
    }
   ],
   "source": [
    "print(count_age_sex(Ages,Sex))"
   ]
  },
  {
   "cell_type": "code",
   "execution_count": null,
   "id": "8f870224",
   "metadata": {},
   "outputs": [],
   "source": []
  }
 ],
 "metadata": {
  "kernelspec": {
   "display_name": "Python 3 (ipykernel)",
   "language": "python",
   "name": "python3"
  },
  "language_info": {
   "codemirror_mode": {
    "name": "ipython",
    "version": 3
   },
   "file_extension": ".py",
   "mimetype": "text/x-python",
   "name": "python",
   "nbconvert_exporter": "python",
   "pygments_lexer": "ipython3",
   "version": "3.9.12"
  }
 },
 "nbformat": 4,
 "nbformat_minor": 5
}
