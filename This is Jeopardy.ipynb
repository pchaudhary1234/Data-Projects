{
 "cells": [
  {
   "cell_type": "markdown",
   "metadata": {},
   "source": [
    "# This is Jeopardy!"
   ]
  },
  {
   "cell_type": "markdown",
   "metadata": {},
   "source": [
    "## Prerequisites"
   ]
  },
  {
   "cell_type": "markdown",
   "metadata": {},
   "source": [
    "In order to complete this project, you should have completed the Pandas lessons in the <a href=\"https://www.codecademy.com/learn/paths/analyze-data-with-python\">Analyze Data with Python Skill Path</a>. You can also find those lessons in the <a href=\"https://www.codecademy.com/learn/data-processing-pandas\">Data Analysis with Pandas course</a> or the <a href=\"https://www.codecademy.com/learn/paths/data-science/\">Data Scientist Career Path</a>.\n",
    "\n",
    "Finally, the <a href=\"https://www.codecademy.com/learn/practical-data-cleaning\">Practical Data Cleaning</a> course may also be helpful."
   ]
  },
  {
   "cell_type": "markdown",
   "metadata": {},
   "source": [
    "## Project Requirements"
   ]
  },
  {
   "cell_type": "markdown",
   "metadata": {},
   "source": [
    "1. We've provided a csv file containing data about the game show _Jeopardy!_ in a file named `jeopardy.csv`. Load the data into a DataFrame and investigate its contents. Try to print out specific columns.\n",
    "\n",
    "   Note that in order to make this project as \"real-world\" as possible, we haven't modified the data at all - we're giving it to you exactly how we found it. As a result, this data isn't as \"clean\" as the datasets you normally find on Codecademy. More specifically, there's something odd about the column names. After you figure out the problem with the column names, you may want to rename them to make your life easier for the rest of the project.\n",
    "   \n",
    "   In order to display the full contents of a column, we've added this line of code for you:\n",
    "   \n",
    "   ```py\n",
    "   pd.set_option('display.max_colwidth', None)\n",
    "   ```"
   ]
  },
  {
   "cell_type": "code",
   "execution_count": 1,
   "metadata": {},
   "outputs": [
    {
     "name": "stdout",
     "output_type": "stream",
     "text": [
      "   Show Number    Air Date      Round                         Category Value  \\\n",
      "0         4680  2004-12-31  Jeopardy!                          HISTORY  $200   \n",
      "1         4680  2004-12-31  Jeopardy!  ESPN's TOP 10 ALL-TIME ATHLETES  $200   \n",
      "2         4680  2004-12-31  Jeopardy!      EVERYBODY TALKS ABOUT IT...  $200   \n",
      "3         4680  2004-12-31  Jeopardy!                 THE COMPANY LINE  $200   \n",
      "4         4680  2004-12-31  Jeopardy!              EPITAPHS & TRIBUTES  $200   \n",
      "\n",
      "                                                                                                      Question  \\\n",
      "0             For the last 8 years of his life, Galileo was under house arrest for espousing this man's theory   \n",
      "1  No. 2: 1912 Olympian; football star at Carlisle Indian School; 6 MLB seasons with the Reds, Giants & Braves   \n",
      "2                     The city of Yuma in this state has a record average of 4,055 hours of sunshine each year   \n",
      "3                         In 1963, live on \"The Art Linkletter Show\", this company served its billionth burger   \n",
      "4     Signer of the Dec. of Indep., framer of the Constitution of Mass., second President of the United States   \n",
      "\n",
      "       Answer  \n",
      "0  Copernicus  \n",
      "1  Jim Thorpe  \n",
      "2     Arizona  \n",
      "3  McDonald's  \n",
      "4  John Adams  \n"
     ]
    }
   ],
   "source": [
    "import pandas as pd\n",
    "pd.set_option('display.max_colwidth', None)\n",
    "jeopardy = pd.read_csv('jeopardy.csv')\n",
    "print(jeopardy.head())"
   ]
  },
  {
   "cell_type": "markdown",
   "metadata": {},
   "source": [
    "2. Write a function that filters the dataset for questions that contains all of the words in a list of words. For example, when the list `[\"King\", \"England\"]` was passed to our function, the function returned a DataFrame of 49 rows. Every row had the strings `\"King\"` and `\"England\"` somewhere in its `\" Question\"`.\n",
    "\n",
    "   Test your function by printing out the column containing the question of each row of the dataset."
   ]
  },
  {
   "cell_type": "code",
   "execution_count": 10,
   "metadata": {},
   "outputs": [
    {
     "name": "stdout",
     "output_type": "stream",
     "text": [
      "['Both England\\'s King George V & FDR put their stamp of approval on this \"King of Hobbies\"', 'This country\\'s King Louis IV was nicknamed \"Louis From Overseas\" because he was raised in England', 'this man and his son ruled England following the execution of King Charles I', 'William the Conqueror was crowned King of England in Westminster Abbey on Christmas Day in this year', \"This member of the Medici family was the mother-in-law of England's King Charles I\", '(Sarah of the Clue Crew delivers the clue from the Bayeux Cathedral in France.)  Despite taking an oath to assure another succession, Harold is crowned King of England; the tapestry indicated it was <a href=\"http://www.j-archive.com/media/2008-12-18_J_08.jpg\" target=\"_blank\">Stigant</a>, this archbishop, who performed the ceremony', \"This French king recognized William of Orange as William II, King of England, under the terms of 1697's Treaty of Ryswick\", \"England's King Henry VIII had 3 wives named Catherine:  Catherine Howard, Catherine of Aragon & this one\", \"The father of England's King Edward VI\", 'This steak sauce was created for King George IV of England', \"Elizabeth I's half-brother, he reigned before her as King of England from 1547 to 1553\", '(<a href=\"http://www.j-archive.com/media/2000-03-02_J_22.jpg\" target=\"_blank\">Alex Trebek reads from England.</a>)  In 1214 barons fed up with King John met at the abbey whose ruins we see here; the result a year later was this charter', 'He wrote several anthems, including \"The King Shall Rejoice\", for the coronation of England\\'s King George II', \"This city known for its 24-hour auto race was the birthplace of England's King Henry II in 1133\", \"Famous (& rather insulting) adjective for England's King Ethelred II\", 'He became King of England in 1399 after forcing his cousin Richard II from the throne', 'Number of the William who was England\\'s \"Sailor King\" from 1830 to 1837', \"Barons & churchmen drew up this 1215 document to reduce the power of England's King John\", 'He became King of England on June 26, 1483; just over 2 years later he was killed at Bosworth Field', 'On Christmas Day 1066, he was crowned King of England, 72 days after defeating Harold at the Battle of Hastings', 'England\\'s King Charles II was known by this \"jovial\" nickname', 'He went from second banana on \"Roseanne\" to top banana of England in \"King Ralph\"', \"This country's King Olaf V was born in England & was the grandson of King Edward VII\", 'This 11th Century King of England also ruled Denmark & Norway during the latter part of his reign', 'It begins \"John, by the grace of God, King of England, Lord of Ireland, Duke of Normandy & Aquitaine....\"', 'In French this King of England is called Guillaume le Conquerant', 'If you want to be crowned King of England, this rock has to be in your coronation chair', 'King Henry VII of England dies', \"Famous nickname of the eldest son of England's King Edward III\", 'Ethelred the Unready managed to lose most of England to King Sweyn Forkbeard of this country', 'This state was named for the King of England who reigned from 1727 to 1760', 'King Edward I of England, who fought William Wallace, had this nickname relating to his height', 'This \"Sun King\" sniffed, \"England is a little garden full of sour weeds\"', 'The last King William to rule England had this number after his name', \"This Flemish artist painted a unique triple portrait of England's King Charles I around 1637\", \"During Stanley Baldwin's term as P.M., this King of England abdicated\", 'The 1st commoner to rule England, he became lord protector following the overthrow of King Charles I', 'The \"Angel of Hadley\" is said to have saved a New England town during the war with this Indian \"King\"', 'In the 1697 Treaty of Rijswijk, the French recognized this Dutch-born man as King of England', 'This conqueror was crowned King of England on Christmas Day 1066', 'His short reign as King of England fell in in 1936', 'A capital in the West Indies is named for this family name of William of Orange, King of England', 'He was King of England from 1189 to 1199 but spent only 6 months there; the rest of the time, he was off fighting', 'This Bahamian capital took its name from the family name of King William III of England', \"England's King Harold II lost the all-important Battle of Hastings in this year\", '(<a href=\"http://www.j-archive.com/media/2012-01-17_DJ_25.jpg\" target=\"_blank\">Sarah of the Clue Crew stands in front of the Royal Palace in Oslo, Norway.</a>) King Harald V lives here, in Norway\\'s Royal Palace. He and his second cousin, England\\'s Queen Elizabeth, are both great-grandchildren of this British king, who ruled from 1901 to 1910.', \"England's King _____ _____ R. Luce\", 'The \"Monty Python\" member who played King Arthur, he ended his grail quest in Maidstone, England', '8th C. King Offa built a 170-mile north-south dike that still partly marks the border of England & this country']\n"
     ]
    }
   ],
   "source": [
    "\n",
    "questions = jeopardy['Question']\n",
    "words_to_filter = [\"King\",\"England\"]\n",
    "\n",
    "# Use the filter function to filter the questions list\n",
    "filtered_questions = list(filter(lambda x: all(word in x for word in words_to_filter), questions))\n",
    "\n",
    "# Convert the filtered items from filter object to list and store it in filtered_questions\n",
    "filtered_questions = list(filtered_questions)\n",
    "\n",
    "# Print the filtered questions list\n",
    "print(filtered_questions)\n"
   ]
  },
  {
   "cell_type": "markdown",
   "metadata": {},
   "source": [
    "3. Test your original function with a few different sets of words to try to find some ways your function breaks. Edit your function so it is more robust.\n",
    "\n",
    "   For example, think about capitalization. We probably want to find questions that contain the word `\"King\"` or `\"king\"`.\n",
    "   \n",
    "   You may also want to check to make sure you don't find rows that contain substrings of your given words. For example, our function found a question that didn't contain the word `\"king\"`, however it did contain the word `\"viking\"` &mdash; it found the `\"king\"` inside `\"viking\"`. Note that this also comes with some drawbacks &mdash; you would no longer find questions that contained words like `\"England's\"`."
   ]
  },
  {
   "cell_type": "code",
   "execution_count": 13,
   "metadata": {},
   "outputs": [
    {
     "name": "stdout",
     "output_type": "stream",
     "text": [
      "['Both England\\'s King George V & FDR put their stamp of approval on this \"King of Hobbies\"', 'In retaliation for Viking raids, this \"Unready\" king of England attacks Norse areas of the Isle of Man', 'This king of England beat the odds to trounce the French in the 1415 Battle of Agincourt', 'This Scotsman, the first Stuart king of England, was called \"The Wisest Fool in Christendom\"', \"It's the number that followed the last king of England named William\", 'Nelson said, \"England expects that every man will do\" this & died thanking God he did his', 'This country\\'s King Louis IV was nicknamed \"Louis From Overseas\" because he was raised in England', 'There was good kinging in the 800s--Leo the Wise ruled the Byzantine Empire while England had Alfred the this', 'In 1199 this crusader king of England was mortally wounded while besieging the castle of Chalus', \"Name of 8 kings of England since 1272, it was also General Lee's middle name\", 'He was the only king of England to have \"The Great\" tacked on to his name', 'this man and his son ruled England following the execution of King Charles I', 'William the Conqueror was crowned King of England in Westminster Abbey on Christmas Day in this year', 'This \"unready\" king of England lost most of his country to Sven Forkbeard, the king of Denmark', 'This king of England was killed by a Norman arrow at the Battle of Hastings', 'In 1066 he became the last Saxon king to rule England', \"This member of the Medici family was the mother-in-law of England's King Charles I\", \"The IV king of this name (following the Norman Conquest) brought the House of York to England's throne\", 'This king of England was a leader of the Third Crusade', '(Sarah of the Clue Crew delivers the clue from the Bayeux Cathedral in France.)  Despite taking an oath to assure another succession, Harold is crowned King of England; the tapestry indicated it was <a href=\"http://www.j-archive.com/media/2008-12-18_J_08.jpg\" target=\"_blank\">Stigant</a>, this archbishop, who performed the ceremony', 'Born in Bedfordshire, England in 1628, he was making \"Progress\" from the start', 'Before he became king of England, George VI served in the Royal Navy & fought in the Battle of Jutland during this war', '(<a href=\"http://www.j-archive.com/media/2005-05-30_DJ_26.jpg\" target=\"_blank\">Jimmy of the Clue Crew holds a block of cheese</a>.)  I\\'m in this Midwest state famous for making cheddar, which actually originated in a village in England', 'They named a knot for this Duke who was briefly king of England', \"This French king recognized William of Orange as William II, King of England, under the terms of 1697's Treaty of Ryswick\", \"England's King Henry VIII had 3 wives named Catherine:  Catherine Howard, Catherine of Aragon & this one\", \"The father of England's King Edward VI\", 'This steak sauce was created for King George IV of England', \"Elizabeth I's half-brother, he reigned before her as King of England from 1547 to 1553\", '(<a href=\"http://www.j-archive.com/media/2000-03-02_J_22.jpg\" target=\"_blank\">Alex Trebek reads from England.</a>)  In 1214 barons fed up with King John met at the abbey whose ruins we see here; the result a year later was this charter', 'He wrote several anthems, including \"The King Shall Rejoice\", for the coronation of England\\'s King George II', 'This associate of Marx wrote about \"the condition of the working class in England in 1844\"', 'While in England in 1760, John Hancock attended the coronation of this king', '(<a href=\"http://www.j-archive.com/media/2010-07-26_DJ_10.jpg\" target=\"_blank\">Jimmy of the Clue Crew reports from in front of the Bayeux Tapestry.</a>)  The tapestry opens in 1064 with this childless king on England\\'s throne; 11th century sources say the <a href=\"http://www.j-archive.com/media/2010-07-26_DJ_10.jpg\" target=\"_blank\">meeting</a> is about naming his successor', \"When England's Queen Anne died, this German became king because he was a great grandson of James I\", \"This city known for its 24-hour auto race was the birthplace of England's King Henry II in 1133\", 'He was the last of the 3 men who were king of England during 1066', \"Famous (& rather insulting) adjective for England's King Ethelred II\", 'The only name shared by four consecutive kings of England', 'He became King of England in 1399 after forcing his cousin Richard II from the throne', 'In the 1697 Treaty of Rijswijk, the French recognized this Dutch-born man as king of England', \"In literature, restoration refers to the period after the return of this king to England's throne in 1660\", 'He was working on his 3rd symphony when he died in England in 1934; it premiered in 1998 amid much \"pomp\"', 'This king called \"the Great\" beat the Danes in 886 to keep all of England from being conquered', 'This first Tudor king reigned on the throne of England', \"Chronological lists of England's kings are missing 1649-1660, between 2 kings of this name\", 'In 1710 Handel was appointed kapellmeister to the elector of Hanover, this future king of England', 'Number of the William who was England\\'s \"Sailor King\" from 1830 to 1837', 'This current king of Jordan received part of his education in England at Harrow & Sandhurst', \"Barons & churchmen drew up this 1215 document to reduce the power of England's King John\", 'In 1497 this Venetian sailing for England became the first European since the Vikings to reach N. America', 'It\\'s the rank of the character singing <a href=\"http://www.j-archive.com/media/2006-06-28_DJ_14.mp3\">here</a>  <i>\"I know the kings of England and I quote the fights historical / From Marathon to Waterloo, in order categorical\"</i>', '11th century England had 2 kings with this name, one a Dane & one a Saxon', 'He became King of England on June 26, 1483; just over 2 years later he was killed at Bosworth Field', 'Henry II, who succeeded Stephen as king of England in 1154, was the first monarch from this \"house\"', 'He called himself \"king of Great Britain\" after gaining England\\'s throne in 1603--he was already king of Scotland', 'On Christmas Day 1066, he was crowned King of England, 72 days after defeating Harold at the Battle of Hastings', 'England\\'s King Charles II was known by this \"jovial\" nickname', 'This nickname of Virginia came from Charles II ranking it with England, Ireland, France & Scotland', \"England's last Lancastrian king, he was imprisoned & murdered in the Tower of London in 1471\", 'England had its last Saxon king', 'The \"rump\" parliament wanted him to be the last king England would ever name', 'He went from second banana on \"Roseanne\" to top banana of England in \"King Ralph\"', 'The taking of England by William in 1066 is known as this \"Conquest\"', \"This country's King Olaf V was born in England & was the grandson of King Edward VII\", 'During an 1840 speaking tour in England, he persuaded thousands to emigrate to Nauvoo, Illinois', '<a href=\"http://www.j-archive.com/media/2005-02-11_J_10.mp3\">In 1860s England, he would change the rules of pugilism forever... by making them!  This summer, Vin Diesel is...</a>', 'This 11th Century King of England also ruled Denmark & Norway during the latter part of his reign', 'He was \"the Confessor\" king of England in the 11th century', 'In a 1989 ceremony at Buckingham Palace, the Queen of England made him an honorary knight', 'From 1714 to 1830 every king of England had this name', 'Regent for his predecessor from 1811 to 1820, he was king of England on his own from 1820 to 1830', \"Like England's William I, Aragon's Jaime I won this nickname, in part by taking over Valencia\", '\"Carolus Stuardus\" by Andreas Gryphius is about this executed king of England', 'This king of England was the grandfather of Elizabeth I', 'This Romantic began his \"England in 1819\", \"An old, mad, blind, despised and dying king\"', 'It begins \"John, by the grace of God, King of England, Lord of Ireland, Duke of Normandy & Aquitaine....\"', 'In 1191, Berengaria married this king of England in Limassol, Cyprus', 'In French this King of England is called Guillaume le Conquerant', 'Winchester, the county seat of Hampshire, was the capital of this Western Anglo-Saxon kingdom of England', 'In this Twain tale, Tom Canty is a dead ringer for the future king of England', 'If you want to be crowned King of England, this rock has to be in your coronation chair', 'King Henry VII of England dies', 'The first Hanoverian king born in England, he ruled for 60 years, from 1760 to 1820', \"Famous nickname of the eldest son of England's King Edward III\", '\"More butcher than king in England\" is seen as this leader born in 1599, 33 years after Nostradamus died', 'Ethelred the Unready managed to lose most of England to King Sweyn Forkbeard of this country', 'This state was named for the King of England who reigned from 1727 to 1760', 'King Edward I of England, who fought William Wallace, had this nickname relating to his height', 'This \"Sun King\" sniffed, \"England is a little garden full of sour weeds\"', \"This conflict's last battle in 1485 resulted in the house of Lancaster taking power in England\", '1999: \"Goodnight you princes of Maine, you kings of New England\"', 'The last King William to rule England had this number after his name', '1189,1377 &1483 are the 3 years the only 3 kings of England with this name each ascended the throne', 'In 1191 this \"Lion-Hearted\" king of England captured Cyprus & Acre during the Crusades', 'Dutch-born Protestant Prince William of Orange became king of England after this Catholic king was deposed & fled', 'Anglo-Saxon legend says his third son Japheth is an ancestor of the kings of Wessex & England', \"This Flemish artist painted a unique triple portrait of England's King Charles I around 1637\", 'In the late 800s, this king of Wessex prevented the Vikings from conquering all of England', 'Ending an 800-year-old monarchy, in October this country became a republic & its last king, Manuel II, fled to England', 'On his way back from failing to take Jerusalem in 1192, this king of England was captured & later ransomed', 'The only king of England named Stephen was the grandson of this conqueror', 'England had this many kings named Richard', \"During Stanley Baldwin's term as P.M., this King of England abdicated\", '2000 saw a fight in England over running the lottery, with this Virgin king at the forefeont', 'Colchester, England was named for this legendary Celtic king immortalized in rhyme', 'At the beginning of \"A Tale of Two Cities\", these 2 kings sit on the thrones of England & France', 'This Dutch-born English king introduced gin to England as the \"pouring spirit\" in the palace at Hampton Court', 'A translation of the Bible is named for this king of England & Scotland', 'This king divorced the Church of England from the Catholic Church so that he could divorce the first of 6 wives', 'The Glorious Revolution of 1688 brought this Dutchman to power as king of England, Scotland, & Ireland', 'This Shakespeare title guy, the last Yorkist king of England, was beloved by the people of York', 'The 1st commoner to rule England, he became lord protector following the overthrow of King Charles I', 'The \"Angel of Hadley\" is said to have saved a New England town during the war with this Indian \"King\"', 'Argentina didn\\'t \"kick\" about this controversial tie-breaking method after using it to beat England', 'The last Anglo-Saxon king of England was killed in this battle', 'In the 1697 Treaty of Rijswijk, the French recognized this Dutch-born man as King of England', \"A breed of spaniel is named for England's second king of this name\", 'This conqueror was crowned King of England on Christmas Day 1066', 'His short reign as King of England fell in in 1936', 'He succeeded Henry II as king of England in 1189 & was himself succeeded by John in 1199', 'Soccer was forbidden in 14th century England for taking practice time away from this military skill', 'Richard was crowned king of England at this place of worship', \"1066: He's crowned king of England\", 'A capital in the West Indies is named for this family name of William of Orange, King of England', 'By 878 the Vikings had conquered all of England except for this southern kingdom controlled by Alfred the Great', 'He was King of England from 1189 to 1199 but spent only 6 months there; the rest of the time, he was off fighting', 'This Bahamian capital took its name from the family name of King William III of England', \"This style influenced by the Romans is named for England's 4 kings between 1714 & 1830\", 'In January 1533 she secretly married the king of England', 'The man who became king of England in 1066 was succeeded by this king in 1087', 'This Coventry, England company made its first motorcycle in 1902 & began making its own engines in 1905', 'On Jan. 28, 1547, after a physical & mental decline, this king of England was (surprisingly) survived by his wife Catherine', \"England's King Harold II lost the all-important Battle of Hastings in this year\", '1 of the first 5 kings of England', 'On January 6, 1066, one day after Edward the Confessor died, he became king of England', '(<a href=\"http://www.j-archive.com/media/2012-01-17_DJ_25.jpg\" target=\"_blank\">Sarah of the Clue Crew stands in front of the Royal Palace in Oslo, Norway.</a>) King Harald V lives here, in Norway\\'s Royal Palace. He and his second cousin, England\\'s Queen Elizabeth, are both great-grandchildren of this British king, who ruled from 1901 to 1910.', \"England's King _____ _____ R. Luce\", 'The \"Monty Python\" member who played King Arthur, he ended his grail quest in Maidstone, England', 'In 1714 the Prince of Hanover, who spoke little English, became king of England under this name', 'In 1603 he became the first Stuart king of England', \"England's Richard III was the last king of this ruling house\", '8th C. King Offa built a 170-mile north-south dike that still partly marks the border of England & this country', 'This monarch on whom the Magna Carta was forced has been called \"the worst king ever to rule England\"', 'Popular Saint-Exupery character waiting around to become king of England', \"In 1731 this man's ear was cut off, later sparking a war between Spain & England\", 'This southern colony was named for a king of England, the II of that name', 'In 1066 this great-great grandson of Rollo made what some call the last Viking invasion of England', 'Dutch-born king who ruled England jointly with Mary II & is a tasty New Zealand fish', 'In 1781 William Herschel discovered Uranus & initially named it after this king of England', 'His nickname was \"Bertie\", but he used this name & number when he became king of England in 1901', 'This kingdom of England grew from 2 settlements, one founded around 495 by Cerdic & his son Cynric']\n"
     ]
    }
   ],
   "source": [
    "import re\n",
    "\n",
    "# Define a lambda function that filters a list of questions based on a list of words to filter\n",
    "filter_jeopardy_questions = lambda questions, words_to_filter: [\n",
    "    # For each question in the list of questions\n",
    "    question\n",
    "    # Check if all the words in the list of words to filter are present in the question (ignoring case and punctuation)\n",
    "    for question in questions if all(word.lower() in re.sub(r'[^\\w\\s]', '', question).lower() for word in words_to_filter)\n",
    "]\n",
    "\n",
    "# Test the function with the sample data\n",
    "questions = jeopardy['Question']\n",
    "filtered_questions = filter_jeopardy_questions(questions, words_to_filter)\n",
    "print(filtered_questions)"
   ]
  },
  {
   "cell_type": "markdown",
   "metadata": {},
   "source": [
    "4. We may want to eventually compute aggregate statistics, like `.mean()` on the `\" Value\"` column. But right now, the values in that column are strings. Convert the`\" Value\"` column to floats. If you'd like to, you can create a new column with float values.\n",
    "\n",
    "   Now that you can filter the dataset of question, use your new column that contains the float values of each question to find the \"difficulty\" of certain topics. For example, what is the average value of questions that contain the word `\"King\"`?\n",
    "   \n",
    "   Make sure to use the dataset that contains the float values as the dataset you use in your filtering function."
   ]
  },
  {
   "cell_type": "code",
   "execution_count": 31,
   "metadata": {},
   "outputs": [
    {
     "name": "stderr",
     "output_type": "stream",
     "text": [
      "C:\\Users\\Prajw\\AppData\\Local\\Temp\\ipykernel_42836\\2663612540.py:2: FutureWarning: The default value of regex will change from True to False in a future version. In addition, single character regular expressions will *not* be treated as literal strings when regex=True.\n",
      "  jeopardy['Value'] = jeopardy['Value'].str.replace('$', '').str.replace(',', '')\n"
     ]
    },
    {
     "name": "stdout",
     "output_type": "stream",
     "text": [
      "The average value of questions containing the word 'King' is: $788.68\n"
     ]
    }
   ],
   "source": [
    "# Replace the dollar sign and comma from the Value column\n",
    "jeopardy['Value'] = jeopardy['Value'].str.replace('$', '').str.replace(',', '')\n",
    "\n",
    "# Convert the Value column to a float\n",
    "# Replace any non-numeric characters with NaN\n",
    "jeopardy['float_Value'] = pd.to_numeric(jeopardy['Value'], errors='coerce')\n",
    "\n",
    "# Define the words to filter the questions\n",
    "king_to_filter = ['King']\n",
    "\n",
    "# Filter the questions that contain the word \"King\"\n",
    "average_value_king = jeopardy[jeopardy['Question'].str.contains('|'.join(king_to_filter))]\n",
    "\n",
    "# Calculate the average float value of the filtered questions\n",
    "average_value_king = average_value_king['float_Value'].mean()\n",
    "\n",
    "print(\"The average value of questions containing the word 'King' is: ${:.2f}\".format(average_value_king))\n"
   ]
  },
  {
   "cell_type": "markdown",
   "metadata": {},
   "source": [
    "5. Write a function that returns the count of unique answers to all of the questions in a dataset. For example, after filtering the entire dataset to only questions containing the word `\"King\"`, we could then find all of the unique answers to those questions. The answer \"Henry VIII\" appeared 55 times and was the most common answer."
   ]
  },
  {
   "cell_type": "code",
   "execution_count": 33,
   "metadata": {},
   "outputs": [
    {
     "name": "stdout",
     "output_type": "stream",
     "text": [
      "The most common answer to questions containing the word 'King' is: 'Henry VIII' (appeared 53 times)\n"
     ]
    }
   ],
   "source": [
    "def count_unique_answers(dataset, filter_word):\n",
    "    # Filter the dataset to only include questions containing the filter_word\n",
    "    filtered_dataset = dataset[dataset['Question'].str.contains(filter_word)]\n",
    "    \n",
    "    # Get a series of the unique answers and their frequency\n",
    "    answer_counts = filtered_dataset['Answer'].value_counts()\n",
    "    \n",
    "    return answer_counts\n",
    "# Get the count of unique answers to questions containing the word \"King\"\n",
    "answers_king = count_unique_answers(jeopardy, 'king')\n",
    "\n",
    "# Get the most common answer\n",
    "most_common_answer_king = answers_king.index[0]\n",
    "most_common_answer_count_king = answers_king.iloc[0]\n",
    "\n",
    "print(\"The most common answer to questions containing the word 'King' is: '{}' (appeared {} times)\".format(most_common_answer_king, most_common_answer_count_king))"
   ]
  },
  {
   "cell_type": "markdown",
   "metadata": {},
   "source": [
    "6. Explore from here! This is an incredibly rich dataset, and there are so many interesting things to discover. There are a few columns that we haven't even started looking at yet. Here are some ideas on ways to continue working with this data:\n",
    "\n",
    " * Investigate the ways in which questions change over time by filtering by the date. How many questions from the 90s use the word `\"Computer\"` compared to questions from the 2000s?\n",
    " * Is there a connection between the round and the category? Are you more likely to find certain categories, like `\"Literature\"` in Single Jeopardy or Double Jeopardy?\n",
    " * Build a system to quiz yourself. Grab random questions, and use the <a href=\"https://docs.python.org/3/library/functions.html#input\">input</a> function to get a response from the user. Check to see if that response was right or wrong."
   ]
  },
  {
   "cell_type": "code",
   "execution_count": 34,
   "metadata": {},
   "outputs": [
    {
     "name": "stdout",
     "output_type": "stream",
     "text": [
      "Number of questions from the 90s that use the word 'Computer': 8\n",
      "Number of questions from the 2000s that use the word 'Computer': 26\n"
     ]
    }
   ],
   "source": [
    "\n",
    "\n",
    "# Convert the \"Air Date\" column to datetime type\n",
    "jeopardy['Air Date'] = pd.to_datetime(jeopardy['Air Date'])\n",
    "\n",
    "# Extract the year from the \"Air Date\" column\n",
    "jeopardy['Year'] = jeopardy['Air Date'].dt.year\n",
    "\n",
    "# Filter the dataset to only include questions from the 90s that use the word \"Computer\"\n",
    "questions_90s_computer = jeopardy[(jeopardy['Year'] >= 1990) & (jeopardy['Year'] < 2000) & (jeopardy['Question'].str.contains('Computer'))]\n",
    "\n",
    "# Filter the dataset to only include questions from the 2000s that use the word \"Computer\"\n",
    "questions_2000s_computer = jeopardy[(jeopardy['Year'] >= 2000) & (jeopardy['Question'].str.contains('Computer'))]\n",
    "\n",
    "# Get the number of questions from the 90s and the 2000s that use the word \"Computer\"\n",
    "num_questions_90s_computer = len(questions_90s_computer)\n",
    "num_questions_2000s_computer = len(questions_2000s_computer)\n",
    "\n",
    "print(\"Number of questions from the 90s that use the word 'Computer': {}\".format(num_questions_90s_computer))\n",
    "print(\"Number of questions from the 2000s that use the word 'Computer': {}\".format(num_questions_2000s_computer))\n"
   ]
  },
  {
   "cell_type": "code",
   "execution_count": 35,
   "metadata": {
    "scrolled": true
   },
   "outputs": [
    {
     "name": "stdout",
     "output_type": "stream",
     "text": [
      "Category           A JIM CARREY FILM FESTIVAL  \"!\"  \"-ARES\"  \\\n",
      "Round                                                         \n",
      "Double Jeopardy!                          NaN  NaN      5.0   \n",
      "Final Jeopardy!                           NaN  NaN      NaN   \n",
      "Jeopardy!                                 5.0  5.0      NaN   \n",
      "Tiebreaker                                NaN  NaN      NaN   \n",
      "\n",
      "Category          \"-ICIAN\" EXPEDITION  \"...OD\" WORDS  \"1\", \"2\", \"3\"  \\\n",
      "Round                                                                 \n",
      "Double Jeopardy!                  NaN            5.0            5.0   \n",
      "Final Jeopardy!                   NaN            NaN            NaN   \n",
      "Jeopardy!                         5.0            NaN            NaN   \n",
      "Tiebreaker                        NaN            NaN            NaN   \n",
      "\n",
      "Category          \"20\" QUESTIONS  \"A\" & \"E\"  \"A\" & \"M\"  \"A\" + 4  ...  “CC”  \\\n",
      "Round                                                            ...         \n",
      "Double Jeopardy!             5.0        NaN        NaN      5.0  ...   NaN   \n",
      "Final Jeopardy!              NaN        NaN        NaN      NaN  ...   NaN   \n",
      "Jeopardy!                    NaN        5.0        5.0      NaN  ...   5.0   \n",
      "Tiebreaker                   NaN        NaN        NaN      NaN  ...   NaN   \n",
      "\n",
      "Category          “GUT”s  “G” WHIZ!  “HARD” & “EASY” MOVIES  “NORTH”  \\\n",
      "Round                                                                  \n",
      "Double Jeopardy!     5.0        NaN                     5.0      NaN   \n",
      "Final Jeopardy!      NaN        NaN                     NaN      NaN   \n",
      "Jeopardy!            NaN        5.0                     NaN      5.0   \n",
      "Tiebreaker           NaN        NaN                     NaN      NaN   \n",
      "\n",
      "Category          “R” MOVIES  “SAINTS”  “SOUTH”  “STREETS”  “WH”AT IS IT?  \n",
      "Round                                                                      \n",
      "Double Jeopardy!         5.0       4.0      5.0        NaN            5.0  \n",
      "Final Jeopardy!          NaN       NaN      NaN        NaN            NaN  \n",
      "Jeopardy!                NaN       NaN      NaN        5.0            NaN  \n",
      "Tiebreaker               NaN       NaN      NaN        NaN            NaN  \n",
      "\n",
      "[4 rows x 27995 columns]\n"
     ]
    }
   ],
   "source": [
    "# Create a pivot table that shows the number of questions in each category for each round\n",
    "pivot = pd.pivot_table(jeopardy, index='Round', columns='Category', values='Question', aggfunc='count')\n",
    "\n",
    "print(pivot)\n"
   ]
  },
  {
   "cell_type": "code",
   "execution_count": 40,
   "metadata": {},
   "outputs": [
    {
     "name": "stdout",
     "output_type": "stream",
     "text": [
      "To save pennies at the supermarket, avoid buying products displayed on shelves at this level: idk\n",
      "Incorrect. The answer was: eye level\n"
     ]
    }
   ],
   "source": [
    "import random\n",
    "\n",
    "# Get a random question from the dataset\n",
    "random_question = random.choice(jeopardy.index)\n",
    "\n",
    "# Get the question text and answer\n",
    "question_text = jeopardy.loc[random_question]['Question']\n",
    "answer = jeopardy.loc[random_question]['Answer']\n",
    "\n",
    "# Ask the question\n",
    "response = input(question_text + ': ')\n",
    "\n",
    "# Check the answer\n",
    "if response.lower() == answer.lower():\n",
    "    print('Correct!')\n",
    "else:\n",
    "    print('Incorrect. The answer was:', answer)\n"
   ]
  },
  {
   "cell_type": "code",
   "execution_count": null,
   "metadata": {},
   "outputs": [],
   "source": []
  }
 ],
 "metadata": {
  "kernelspec": {
   "display_name": "Python 3 (ipykernel)",
   "language": "python",
   "name": "python3"
  },
  "language_info": {
   "codemirror_mode": {
    "name": "ipython",
    "version": 3
   },
   "file_extension": ".py",
   "mimetype": "text/x-python",
   "name": "python",
   "nbconvert_exporter": "python",
   "pygments_lexer": "ipython3",
   "version": "3.9.12"
  }
 },
 "nbformat": 4,
 "nbformat_minor": 2
}
